{
 "cells": [
  {
   "cell_type": "code",
   "execution_count": 1,
   "id": "54973eb3",
   "metadata": {},
   "outputs": [],
   "source": [
    "import zipfile\n",
    "import pandas as pd\n",
    "import matplotlib.pyplot as plt\n",
    "import seaborn as sns\n",
    "import numpy as np\n",
    "from io import StringIO"
   ]
  },
  {
   "cell_type": "code",
   "execution_count": 2,
   "id": "9a626b0a",
   "metadata": {},
   "outputs": [],
   "source": [
    "z = zipfile.ZipFile('Data/time-series.zip')\n",
    "\n",
    "df_list = []\n",
    "for i in z.infolist():\n",
    "    df_list.append(pd.read_csv(StringIO(z.read(i.filename).decode('utf_8'))))"
   ]
  },
  {
   "cell_type": "code",
   "execution_count": null,
   "id": "08a7d103",
   "metadata": {},
   "outputs": [],
   "source": []
  }
 ],
 "metadata": {
  "kernelspec": {
   "display_name": "Python 3 (ipykernel)",
   "language": "python",
   "name": "python3"
  },
  "language_info": {
   "codemirror_mode": {
    "name": "ipython",
    "version": 3
   },
   "file_extension": ".py",
   "mimetype": "text/x-python",
   "name": "python",
   "nbconvert_exporter": "python",
   "pygments_lexer": "ipython3",
   "version": "3.10.5"
  }
 },
 "nbformat": 4,
 "nbformat_minor": 5
}
