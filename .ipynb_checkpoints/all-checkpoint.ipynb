{
 "cells": [
  {
   "cell_type": "code",
   "execution_count": 21,
   "id": "1bdf4e41",
   "metadata": {},
   "outputs": [],
   "source": [
    "import os\n",
    "import numpy as np\n",
    "import pandas as pd\n",
    "import xgboost as xgb\n",
    "from numpy import polyfit\n",
    "from datetime import datetime\n",
    "from scipy.stats import boxcox\n",
    "import matplotlib.pyplot as plt\n",
    "from sklearn.metrics import confusion_matrix\n",
    "from xgboost import XGBClassifier,XGBRegressor\n",
    "from sklearn.metrics import mean_squared_error\n",
    "from statsmodels.tsa.stattools import adfuller\n",
    "from sklearn.linear_model import LinearRegression\n",
    "\n",
    "def xgbclassifier(df_test,label,model):\n",
    "    X = df_test.drop([label],axis=1).to_numpy()\n",
    "    Y = df_test[label].to_numpy()\n",
    "    model.fit(X,Y)\n",
    "    return model\n",
    "\n",
    "def make_features(df):\n",
    "    # diffrence\n",
    "    df['diff_value'] = df.value.diff()\n",
    "    \n",
    "    # Transform\n",
    "    df['power_value'] = np.power(df['value'] , 5)\n",
    "    \n",
    "    # std\n",
    "    df['std_value_9'] = df['value'].rolling(window=9).std()\n",
    "    df['std_value_21'] = df['value'].rolling(window=21).std()\n",
    "    df['std_value_50'] = df['value'].rolling(window=50).std()\n",
    "    \n",
    "    # shift\n",
    "    n_lags = 3\n",
    "    for l in range(1, n_lags + 1):\n",
    "        df[f'shifted_value{l}'] = df.value.shift(l)\n",
    "    \n",
    "    # MA\n",
    "    df['MA_value_9'] = df['diff_value'].rolling(window=9).mean()\n",
    "    df['MA_value_21'] = df['diff_value'].rolling(window=21).mean()\n",
    "    df['MA_value_50'] = df['diff_value'].rolling(window=50).mean()\n",
    "    df.dropna(inplace = True)\n",
    "    return df"
   ]
  },
  {
   "cell_type": "code",
   "execution_count": 22,
   "id": "df5fb207",
   "metadata": {},
   "outputs": [],
   "source": [
    "\n",
    "model=XGBRegressor()\n",
    "for i in range(12):\n",
    "    df=pd.read_csv(r'C:\\Users\\AMIR\\Desktop\\comp\\file\\{}.csv'.format(i))\n",
    "    df=make_features(df)\n",
    "    model = xgbclassifier(df_test = df , label = 'label', model = model )\n"
   ]
  },
  {
   "cell_type": "code",
   "execution_count": 27,
   "id": "bb293b00",
   "metadata": {},
   "outputs": [
    {
     "name": "stdout",
     "output_type": "stream",
     "text": [
      "0.06067103477633436\n",
      "0.08576801387517677\n",
      "0.16604101919411124\n",
      "1.956483836640985e-05\n",
      "0.04953769245938454\n",
      "0.09592932893890646\n"
     ]
    }
   ],
   "source": [
    "io=[15,16,17,18,19,20]\n",
    "ioo=[]\n",
    "for i in io:\n",
    "    df=pd.read_csv(r'C:\\Users\\AMIR\\Desktop\\comp\\file\\{}.csv'.format(i))\n",
    "    df=make_features(df)\n",
    "    p=model.predict(df.drop(['label'],axis=1).to_numpy())\n",
    "    e=np.sqrt(mean_squared_error(p,df.label.to_numpy()))\n",
    "    ioo.append(e)\n",
    "    print(e)"
   ]
  },
  {
   "cell_type": "code",
   "execution_count": 28,
   "id": "05c8fe39",
   "metadata": {},
   "outputs": [
    {
     "data": {
      "text/plain": [
       "0.07632777568037996"
      ]
     },
     "execution_count": 28,
     "metadata": {},
     "output_type": "execute_result"
    }
   ],
   "source": [
    "sum(ioo)/len(ioo)"
   ]
  },
  {
   "cell_type": "code",
   "execution_count": 24,
   "id": "33798959",
   "metadata": {},
   "outputs": [],
   "source": []
  },
  {
   "cell_type": "code",
   "execution_count": 25,
   "id": "1ef2da51",
   "metadata": {},
   "outputs": [
    {
     "data": {
      "text/plain": [
       "0.06067103477633436"
      ]
     },
     "execution_count": 25,
     "metadata": {},
     "output_type": "execute_result"
    }
   ],
   "source": []
  },
  {
   "cell_type": "code",
   "execution_count": null,
   "id": "6ac8d2a6",
   "metadata": {},
   "outputs": [],
   "source": []
  }
 ],
 "metadata": {
  "kernelspec": {
   "display_name": "Python 3 (ipykernel)",
   "language": "python",
   "name": "python3"
  },
  "language_info": {
   "codemirror_mode": {
    "name": "ipython",
    "version": 3
   },
   "file_extension": ".py",
   "mimetype": "text/x-python",
   "name": "python",
   "nbconvert_exporter": "python",
   "pygments_lexer": "ipython3",
   "version": "3.10.5"
  }
 },
 "nbformat": 4,
 "nbformat_minor": 5
}
